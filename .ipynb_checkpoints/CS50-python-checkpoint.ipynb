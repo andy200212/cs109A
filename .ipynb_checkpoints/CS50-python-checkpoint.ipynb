{
 "cells": [
  {
   "cell_type": "code",
   "execution_count": 1,
   "metadata": {},
   "outputs": [
    {
     "name": "stdout",
     "output_type": "stream",
     "text": [
      "hello, world!\n"
     ]
    }
   ],
   "source": [
    "print(\"hello, world!\")"
   ]
  },
  {
   "cell_type": "code",
   "execution_count": 5,
   "metadata": {},
   "outputs": [
    {
     "name": "stdout",
     "output_type": "stream",
     "text": [
      "What's your name?\n"
     ]
    }
   ],
   "source": [
    "from cs50 import get_string\n",
    "answer = get_string (\"What's your name?\\n\")\n"
   ]
  },
  {
   "cell_type": "code",
   "execution_count": 2,
   "metadata": {},
   "outputs": [
    {
     "name": "stdout",
     "output_type": "stream",
     "text": [
      "hello, None \n"
     ]
    }
   ],
   "source": [
    "print(f\"hello, {answer} \")"
   ]
  },
  {
   "cell_type": "code",
   "execution_count": 9,
   "metadata": {
    "scrolled": false
   },
   "outputs": [
    {
     "name": "stdout",
     "output_type": "stream",
     "text": [
      "JPEG\n",
      "(640, 360)\n",
      "RGB\n"
     ]
    }
   ],
   "source": [
    "from PIL import Image, ImageFilter\n",
    "from PIL.ImageFilter import (\n",
    "    EMBOSS\n",
    ")\n",
    "before = Image.open(\"Sydney-Opera-House.jpg\" , \"r\")\n",
    "print(before.format)\n",
    "print(before.size)\n",
    "print(before.mode)\n",
    "# .show() opens the image\n",
    "after = before.filter(ImageFilter.EMBOSS)\n",
    "after.save(\"out.JPG\")"
   ]
  },
  {
   "cell_type": "code",
   "execution_count": null,
   "metadata": {},
   "outputs": [],
   "source": []
  }
 ],
 "metadata": {
  "kernelspec": {
   "display_name": "Python 3",
   "language": "python",
   "name": "python3"
  },
  "language_info": {
   "codemirror_mode": {
    "name": "ipython",
    "version": 3
   },
   "file_extension": ".py",
   "mimetype": "text/x-python",
   "name": "python",
   "nbconvert_exporter": "python",
   "pygments_lexer": "ipython3",
   "version": "3.7.6"
  }
 },
 "nbformat": 4,
 "nbformat_minor": 4
}
