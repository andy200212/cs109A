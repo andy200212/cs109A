{
 "cells": [
  {
   "cell_type": "code",
   "execution_count": 54,
   "metadata": {},
   "outputs": [
    {
     "data": {
      "text/html": [
       "<style>\n",
       "blockquote { background: #AEDE94; }\n",
       "h1 { \n",
       "    padding-top: 25px;\n",
       "    padding-bottom: 25px;\n",
       "    text-align: left; \n",
       "    padding-left: 10px;\n",
       "    background-color: #DDDDDD; \n",
       "    color: black;\n",
       "}\n",
       "h2 { \n",
       "    padding-top: 10px;\n",
       "    padding-bottom: 10px;\n",
       "    text-align: left; \n",
       "    padding-left: 5px;\n",
       "    background-color: #EEEEEE; \n",
       "    color: black;\n",
       "}\n",
       "\n",
       "div.exercise {\n",
       "\tbackground-color: #ffcccc;\n",
       "\tborder-color: #E9967A; \t\n",
       "\tborder-left: 5px solid #800080; \n",
       "\tpadding: 0.5em;\n",
       "}\n",
       "\n",
       "span.sub-q {\n",
       "\tfont-weight: bold;\n",
       "}\n",
       "div.theme {\n",
       "\tbackground-color: #DDDDDD;\n",
       "\tborder-color: #E9967A; \t\n",
       "\tborder-left: 5px solid #800080; \n",
       "\tpadding: 0.5em;\n",
       "\tfont-size: 18pt;\n",
       "}\n",
       "div.gc { \n",
       "\tbackground-color: #AEDE94;\n",
       "\tborder-color: #E9967A; \t \n",
       "\tborder-left: 5px solid #800080; \n",
       "\tpadding: 0.5em;\n",
       "\tfont-size: 12pt;\n",
       "}\n",
       "p.q1 { \n",
       "    padding-top: 5px;\n",
       "    padding-bottom: 5px;\n",
       "    text-align: left; \n",
       "    padding-left: 5px;\n",
       "    background-color: #EEEEEE; \n",
       "    color: black;\n",
       "}\n",
       "header {\n",
       "   padding-top: 35px;\n",
       "    padding-bottom: 35px;\n",
       "    text-align: left; \n",
       "    padding-left: 10px;\n",
       "    background-color: #DDDDDD; \n",
       "    color: black;\n",
       "}\n",
       "</style>\n",
       "\n"
      ],
      "text/plain": [
       "<IPython.core.display.HTML object>"
      ]
     },
     "execution_count": 54,
     "metadata": {},
     "output_type": "execute_result"
    }
   ],
   "source": [
    "import requests\n",
    "from IPython.core.display import HTML\n",
    "styles = requests.get(\"http://raw.githubusercontent.com/Harvard-IACS/2018-CS109A/master/content/styles/cs109.css\").text\n",
    "HTML(styles)"
   ]
  },
  {
   "cell_type": "code",
   "execution_count": 55,
   "metadata": {},
   "outputs": [],
   "source": [
    "%matplotlib inline\n",
    "import numpy as np\n",
    "import matplotlib.pyplot as plt\n",
    "import pandas as pd\n",
    "import seaborn as sns\n",
    "sns.set_style(\"whitegrid\")\n",
    "sns.set_context(\"notebook\")\n",
    "\n",
    "import requests\n",
    "from bs4 import BeautifulSoup\n",
    "from IPython.display import HTML"
   ]
  },
  {
   "cell_type": "code",
   "execution_count": 56,
   "metadata": {},
   "outputs": [],
   "source": [
    "# Setting up 'requests' to make HTTPS requests properly takes some extra steps... we'll skip them for now.\n",
    "requests.packages.urllib3.disable_warnings()"
   ]
  },
  {
   "cell_type": "code",
   "execution_count": 57,
   "metadata": {},
   "outputs": [],
   "source": [
    "url = \"https://www.nobelprize.org/prizes/lists/all-nobel-prizes/\"\n",
    "# All 3 of these do the same thing. The third is my (KCA's) favorite new feature of Python 3.6.\n",
    "wayback_query_url = 'http://archive.org/wayback/available?url={}'.format(url)\n",
    "wayback_query_url = 'http://archive.org/wayback/available?url={url}'.format(url=url)\n",
    "wayback_query_url = f'http://archive.org/wayback/available?url={url}'\n",
    "r = requests.get(wayback_query_url)"
   ]
  },
  {
   "cell_type": "code",
   "execution_count": 58,
   "metadata": {},
   "outputs": [
    {
     "name": "stdout",
     "output_type": "stream",
     "text": [
      "{\"archived_snapshots\": {\"closest\": {\"timestamp\": \"20200417204846\", \"available\": true, \"url\": \"http://web.archive.org/web/20200417204846/https://www.nobelprize.org/prizes/lists/all-nobel-prizes\", \"status\": \"200\"}}, \"url\": \"https://www.nobelprize.org/prizes/lists/all-nobel-prizes/\"}\n"
     ]
    }
   ],
   "source": [
    "print(r.text)"
   ]
  },
  {
   "cell_type": "code",
   "execution_count": 59,
   "metadata": {},
   "outputs": [
    {
     "data": {
      "text/plain": [
       "{'archived_snapshots': {'closest': {'timestamp': '20200417204846',\n",
       "   'available': True,\n",
       "   'url': 'http://web.archive.org/web/20200417204846/https://www.nobelprize.org/prizes/lists/all-nobel-prizes',\n",
       "   'status': '200'}},\n",
       " 'url': 'https://www.nobelprize.org/prizes/lists/all-nobel-prizes/'}"
      ]
     },
     "execution_count": 59,
     "metadata": {},
     "output_type": "execute_result"
    }
   ],
   "source": [
    "import json\n",
    "json.loads(r.text)"
   ]
  },
  {
   "cell_type": "code",
   "execution_count": 60,
   "metadata": {
    "scrolled": true
   },
   "outputs": [
    {
     "name": "stdout",
     "output_type": "stream",
     "text": [
      "{'archived_snapshots': {'closest': {'timestamp': '20200417204846', 'available': True, 'url': 'http://web.archive.org/web/20200417204846/https://www.nobelprize.org/prizes/lists/all-nobel-prizes', 'status': '200'}}, 'url': 'https://www.nobelprize.org/prizes/lists/all-nobel-prizes/'}\n",
      "<class 'dict'>\n"
     ]
    }
   ],
   "source": [
    "response_json = r.json()\n",
    "print(response_json)\n",
    "print(type(response_json)) #json returns a dictionary?"
   ]
  },
  {
   "cell_type": "code",
   "execution_count": 61,
   "metadata": {},
   "outputs": [],
   "source": [
    "snapshot_url = response_json[\"archived_snapshots\"][\"closest\"][\"url\"] #going into the dictionary and getting the archive url\n",
    "snapshot = requests.get(snapshot_url)"
   ]
  },
  {
   "cell_type": "code",
   "execution_count": 62,
   "metadata": {
    "scrolled": true
   },
   "outputs": [
    {
     "name": "stdout",
     "output_type": "stream",
     "text": [
      "\t<!DOCTYPE html>\n",
      "\n",
      "\t<html lang=\"en-US\" class=\"no-js\">\n",
      "\n",
      "\t<head><script src=\"//archive.org/includes/analytics.js?v=cf34f82\" type=\"text/javascript\"></script>\n",
      "<script type=\"text/javascript\">window.addEventListener('DOMContentLoaded',function(){var v=archive_analytics.values;v.service='wb';v.server_name='wwwb-app31.us.archive.org';v.server_ms=224;archive_analytics.send_pageview({});});</script><script type=\"text/javascript\" src=\"/_static/js/ait-client-rewrite.js\" charset=\"utf-8\"></script>\n",
      "<script type\n"
     ]
    }
   ],
   "source": [
    "raw_html = snapshot.text\n",
    "print(raw_html[:500])"
   ]
  },
  {
   "cell_type": "code",
   "execution_count": 63,
   "metadata": {},
   "outputs": [],
   "source": [
    "soup = BeautifulSoup(raw_html, \"html.parser\")"
   ]
  },
  {
   "cell_type": "code",
   "execution_count": 64,
   "metadata": {
    "scrolled": false
   },
   "outputs": [
    {
     "name": "stdout",
     "output_type": "stream",
     "text": [
      "<!DOCTYPE html>\n",
      "<html class=\"no-js\" lang=\"en-US\">\n",
      " <head>\n",
      "  <script src=\"//archive.org/includes/analytics.js?v=cf34f82\" type=\"text/javascript\">\n",
      "  </script>\n",
      "  <script type=\"text/javascript\">\n",
      "   window.addEventListener('DOMContentLoaded',function(){var v=archive_analytics.values;v.service='wb';v.server_name='wwwb-app31.us.archive.org';v.server_ms=224;archive_analytics.send_pageview({});});\n",
      "  </script>\n",
      "  <script charset=\"utf-8\" src=\"/_static/js/ait-client-rewrite.js\" type=\"text/javascript\">\n",
      "  </scr\n"
     ]
    }
   ],
   "source": [
    "print(soup.prettify()[:500])"
   ]
  },
  {
   "cell_type": "code",
   "execution_count": 65,
   "metadata": {},
   "outputs": [
    {
     "data": {
      "text/plain": [
       "<title>All Nobel Prizes</title>"
      ]
     },
     "execution_count": 65,
     "metadata": {},
     "output_type": "execute_result"
    }
   ],
   "source": [
    "soup.select_one(\"title\")"
   ]
  },
  {
   "cell_type": "code",
   "execution_count": 66,
   "metadata": {},
   "outputs": [
    {
     "data": {
      "text/plain": [
       "'All Nobel Prizes'"
      ]
     },
     "execution_count": 66,
     "metadata": {},
     "output_type": "execute_result"
    }
   ],
   "source": [
    "soup.select_one(\"title\").text"
   ]
  },
  {
   "cell_type": "code",
   "execution_count": 67,
   "metadata": {},
   "outputs": [
    {
     "name": "stdout",
     "output_type": "stream",
     "text": [
      "641\n"
     ]
    }
   ],
   "source": [
    "award_nodes = soup.select(\".by_year\")\n",
    "print(len(award_nodes))"
   ]
  },
  {
   "cell_type": "code",
   "execution_count": 68,
   "metadata": {},
   "outputs": [
    {
     "name": "stdout",
     "output_type": "stream",
     "text": [
      "[<div class=\"by_year\">\n",
      "<h3><a href=\"http://web.archive.org/web/20200417204846/https://www.nobelprize.org/nobel_prizes/chemistry/laureates/1985/\">The Nobel Prize in Chemistry 1985</a></h3>\n",
      "<p><a href=\"http://web.archive.org/web/20200417204846/https://www.nobelprize.org/nobel_prizes/chemistry/laureates/1985/hauptman-facts.html\">Herbert A. Hauptman</a> and <a href=\"http://web.archive.org/web/20200417204846/https://www.nobelprize.org/nobel_prizes/chemistry/laureates/1985/karle-facts.html\">Jerome Karle</a><br/>\n",
      "“for their outstanding achievements in the development of direct methods for the determination of crystal structures”</p>\n",
      "</div>, <div class=\"by_year\">\n",
      "<h3><a href=\"http://web.archive.org/web/20200417204846/https://www.nobelprize.org/nobel_prizes/medicine/laureates/1985/\">The Nobel Prize in Physiology or Medicine 1985</a></h3>\n",
      "<p><a href=\"http://web.archive.org/web/20200417204846/https://www.nobelprize.org/nobel_prizes/medicine/laureates/1985/brown-facts.html\">Michael S. Brown</a> and <a href=\"http://web.archive.org/web/20200417204846/https://www.nobelprize.org/nobel_prizes/medicine/laureates/1985/goldstein-facts.html\">Joseph L. Goldstein</a><br/>\n",
      "“for their discoveries concerning the regulation of cholesterol metabolism”</p>\n",
      "</div>]\n"
     ]
    }
   ],
   "source": [
    "print(award_nodes[200:202])"
   ]
  },
  {
   "cell_type": "code",
   "execution_count": 69,
   "metadata": {
    "scrolled": false
   },
   "outputs": [
    {
     "data": {
      "text/html": [
       "<div class=\"by_year\">\n",
       " <h3>\n",
       "  <a href=\"http://web.archive.org/web/20200417204846/https://www.nobelprize.org/nobel_prizes/chemistry/laureates/1985/\">\n",
       "   The Nobel Prize in Chemistry 1985\n",
       "  </a>\n",
       " </h3>\n",
       " <p>\n",
       "  <a href=\"http://web.archive.org/web/20200417204846/https://www.nobelprize.org/nobel_prizes/chemistry/laureates/1985/hauptman-facts.html\">\n",
       "   Herbert A. Hauptman\n",
       "  </a>\n",
       "  and\n",
       "  <a href=\"http://web.archive.org/web/20200417204846/https://www.nobelprize.org/nobel_prizes/chemistry/laureates/1985/karle-facts.html\">\n",
       "   Jerome Karle\n",
       "  </a>\n",
       "  <br/>\n",
       "  “for their outstanding achievements in the development of direct methods for the determination of crystal structures”\n",
       " </p>\n",
       "</div>\n"
      ],
      "text/plain": [
       "<IPython.core.display.HTML object>"
      ]
     },
     "execution_count": 69,
     "metadata": {},
     "output_type": "execute_result"
    }
   ],
   "source": [
    "award_node = award_nodes[200]\n",
    "HTML(award_node.prettify())"
   ]
  },
  {
   "cell_type": "code",
   "execution_count": 70,
   "metadata": {
    "scrolled": true
   },
   "outputs": [
    {
     "name": "stdout",
     "output_type": "stream",
     "text": [
      "<div class=\"by_year\">\n",
      " <h3>\n",
      "  <a href=\"http://web.archive.org/web/20200417204846/https://www.nobelprize.org/nobel_prizes/chemistry/laureates/1985/\">\n",
      "   The Nobel Prize in Chemistry 1985\n",
      "  </a>\n",
      " </h3>\n",
      " <p>\n",
      "  <a href=\"http://web.archive.org/web/20200417204846/https://www.nobelprize.org/nobel_prizes/chemistry/laureates/1985/hauptman-facts.html\">\n",
      "   Herbert A. Hauptman\n",
      "  </a>\n",
      "  and\n",
      "  <a href=\"http://web.archive.org/web/20200417204846/https://www.nobelprize.org/nobel_prizes/chemistry/laureates/1985/karle-facts.html\">\n",
      "   Jerome Karle\n",
      "  </a>\n",
      "  <br/>\n",
      "  “for their outstanding achievements in the development of direct methods for the determination of crystal structures”\n",
      " </p>\n",
      "</div>\n",
      "\n"
     ]
    }
   ],
   "source": [
    "print(award_node.prettify())"
   ]
  },
  {
   "cell_type": "code",
   "execution_count": 71,
   "metadata": {},
   "outputs": [
    {
     "data": {
      "text/plain": [
       "'The Nobel Prize in Chemistry 1985'"
      ]
     },
     "execution_count": 71,
     "metadata": {},
     "output_type": "execute_result"
    }
   ],
   "source": [
    "award_node.select_one(\"a\").text"
   ]
  },
  {
   "cell_type": "code",
   "execution_count": 72,
   "metadata": {},
   "outputs": [
    {
     "name": "stdout",
     "output_type": "stream",
     "text": [
      "The Nobel Prize in Chemistry \n",
      "1985\n"
     ]
    }
   ],
   "source": [
    "def get_award_title(award_node): \n",
    "    return award_node.select_one(\"a\").text[:-4]\n",
    "\n",
    "def get_award_year(award_node):\n",
    "    return award_node.select_one(\"a\").text[-4:]\n",
    "\n",
    "print(get_award_title(award_node))\n",
    "print(get_award_year(award_node))"
   ]
  },
  {
   "cell_type": "code",
   "execution_count": 73,
   "metadata": {
    "scrolled": true
   },
   "outputs": [],
   "source": [
    "#list of all award titles\n",
    "all_awards = []\n",
    "for i in award_nodes:\n",
    "    all_awards.append(i.select_one(\"a\").text)"
   ]
  },
  {
   "cell_type": "code",
   "execution_count": 74,
   "metadata": {
    "scrolled": true
   },
   "outputs": [],
   "source": [
    "#list of dictionary for all awards\n",
    "awards_list_dict = []\n",
    "for i in award_nodes:\n",
    "    awards_list_dict.append({get_award_title(i):get_award_year(i)})"
   ]
  },
  {
   "cell_type": "code",
   "execution_count": 75,
   "metadata": {},
   "outputs": [
    {
     "name": "stdout",
     "output_type": "stream",
     "text": [
      "<p>\n",
      " <a href=\"http://web.archive.org/web/20200417204846/https://www.nobelprize.org/nobel_prizes/chemistry/laureates/1985/hauptman-facts.html\">\n",
      "  Herbert A. Hauptman\n",
      " </a>\n",
      " and\n",
      " <a href=\"http://web.archive.org/web/20200417204846/https://www.nobelprize.org/nobel_prizes/chemistry/laureates/1985/karle-facts.html\">\n",
      "  Jerome Karle\n",
      " </a>\n",
      " <br/>\n",
      " “for their outstanding achievements in the development of direct methods for the determination of crystal structures”\n",
      "</p>\n",
      "\n"
     ]
    }
   ],
   "source": [
    "print(award_node.select_one('p').prettify())"
   ]
  },
  {
   "cell_type": "code",
   "execution_count": 76,
   "metadata": {
    "scrolled": false
   },
   "outputs": [
    {
     "name": "stdout",
     "output_type": "stream",
     "text": [
      "Herbert A. Hauptman and Jerome Karle\n",
      "“for their outstanding achievements in the development of direct methods for the determination of crystal structures”\n",
      "\"Herbert A. Hauptman and Jerome Karle\\n\\u201cfor their outstanding achievements in the development of direct methods for the determination of crystal structures\\u201d\"\n"
     ]
    }
   ],
   "source": [
    "print(award_node.select_one('p').text)\n",
    "print(json.dumps(award_node.select_one('p').text)) #dumps gives the character corresponding"
   ]
  },
  {
   "cell_type": "code",
   "execution_count": 77,
   "metadata": {
    "scrolled": false
   },
   "outputs": [
    {
     "name": "stdout",
     "output_type": "stream",
     "text": [
      "for their outstanding achievements in the development of direct methods for the determination of crystal structures\n"
     ]
    }
   ],
   "source": [
    "print(award_node.select_one('p').text.split('\\n')[1].rstrip('\\u201d').strip('\\u201c')) #didn't know how to get rid of the other smart quote"
   ]
  },
  {
   "cell_type": "code",
   "execution_count": 78,
   "metadata": {},
   "outputs": [],
   "source": [
    "def get_award_motivation(award_node):\n",
    "    award_node = award_node.select_one('p')\n",
    "    if not award_node:\n",
    "        return None\n",
    "    elif len(award_node.text.split('\\n')) == 1:\n",
    "        return None\n",
    "    else:\n",
    "        return award_node.text.split('\\n')[1].lstrip('\\u201c').rstrip('\\u201d')"
   ]
  },
  {
   "cell_type": "code",
   "execution_count": 79,
   "metadata": {},
   "outputs": [],
   "source": [
    "def get_recipients(award_node):\n",
    "    return [node.text for node in award_node.select('p a')]"
   ]
  },
  {
   "cell_type": "code",
   "execution_count": 80,
   "metadata": {},
   "outputs": [],
   "source": [
    "awards = []\n",
    "for award_node in soup.select('.by_year'):\n",
    "    recipients = get_recipients(award_node)\n",
    "    awards.append(dict(\n",
    "        title=get_award_title(award_node),\n",
    "        year=get_award_year(award_node),\n",
    "        recipients=recipients,\n",
    "        num_recipients=len(recipients),\n",
    "        motivation=get_award_motivation(award_node)\n",
    "    ))"
   ]
  },
  {
   "cell_type": "code",
   "execution_count": 81,
   "metadata": {},
   "outputs": [],
   "source": [
    "df_awards_raw = pd.DataFrame(awards)"
   ]
  },
  {
   "cell_type": "code",
   "execution_count": 82,
   "metadata": {
    "scrolled": true
   },
   "outputs": [
    {
     "name": "stdout",
     "output_type": "stream",
     "text": [
      "1901\n",
      "<class 'pandas.core.frame.DataFrame'>\n",
      "RangeIndex: 641 entries, 0 to 640\n",
      "Data columns (total 5 columns):\n",
      " #   Column          Non-Null Count  Dtype \n",
      "---  ------          --------------  ----- \n",
      " 0   title           641 non-null    object\n",
      " 1   year            641 non-null    object\n",
      " 2   recipients      641 non-null    object\n",
      " 3   num_recipients  641 non-null    int64 \n",
      " 4   motivation      517 non-null    object\n",
      "dtypes: int64(1), object(4)\n",
      "memory usage: 25.2+ KB\n"
     ]
    }
   ],
   "source": [
    "print(df_awards_raw.year.min())\n",
    "df_awards_raw.info()"
   ]
  },
  {
   "cell_type": "code",
   "execution_count": 83,
   "metadata": {
    "scrolled": true
   },
   "outputs": [
    {
     "data": {
      "text/plain": [
       "1     348\n",
       "2     140\n",
       "3     101\n",
       "0      50\n",
       "14      1\n",
       "5       1\n",
       "Name: num_recipients, dtype: int64"
      ]
     },
     "execution_count": 83,
     "metadata": {},
     "output_type": "execute_result"
    }
   ],
   "source": [
    "df_awards_raw.num_recipients.value_counts()"
   ]
  },
  {
   "cell_type": "code",
   "execution_count": 84,
   "metadata": {
    "scrolled": true
   },
   "outputs": [
    {
     "data": {
      "text/html": [
       "<div>\n",
       "<style scoped>\n",
       "    .dataframe tbody tr th:only-of-type {\n",
       "        vertical-align: middle;\n",
       "    }\n",
       "\n",
       "    .dataframe tbody tr th {\n",
       "        vertical-align: top;\n",
       "    }\n",
       "\n",
       "    .dataframe thead th {\n",
       "        text-align: right;\n",
       "    }\n",
       "</style>\n",
       "<table border=\"1\" class=\"dataframe\">\n",
       "  <thead>\n",
       "    <tr style=\"text-align: right;\">\n",
       "      <th></th>\n",
       "      <th>title</th>\n",
       "      <th>year</th>\n",
       "      <th>recipients</th>\n",
       "      <th>num_recipients</th>\n",
       "      <th>motivation</th>\n",
       "    </tr>\n",
       "  </thead>\n",
       "  <tbody>\n",
       "    <tr>\n",
       "      <th>1</th>\n",
       "      <td>The Nobel Prize in Physics</td>\n",
       "      <td>2018</td>\n",
       "      <td>[]</td>\n",
       "      <td>0</td>\n",
       "      <td>None</td>\n",
       "    </tr>\n",
       "    <tr>\n",
       "      <th>281</th>\n",
       "      <td>The Nobel Peace Prize</td>\n",
       "      <td>1972</td>\n",
       "      <td>[]</td>\n",
       "      <td>0</td>\n",
       "      <td>None</td>\n",
       "    </tr>\n",
       "    <tr>\n",
       "      <th>310</th>\n",
       "      <td>The Nobel Peace Prize</td>\n",
       "      <td>1967</td>\n",
       "      <td>[]</td>\n",
       "      <td>0</td>\n",
       "      <td>None</td>\n",
       "    </tr>\n",
       "    <tr>\n",
       "      <th>315</th>\n",
       "      <td>The Nobel Peace Prize</td>\n",
       "      <td>1966</td>\n",
       "      <td>[]</td>\n",
       "      <td>0</td>\n",
       "      <td>None</td>\n",
       "    </tr>\n",
       "    <tr>\n",
       "      <th>365</th>\n",
       "      <td>The Nobel Peace Prize</td>\n",
       "      <td>1956</td>\n",
       "      <td>[]</td>\n",
       "      <td>0</td>\n",
       "      <td>None</td>\n",
       "    </tr>\n",
       "    <tr>\n",
       "      <th>370</th>\n",
       "      <td>The Nobel Peace Prize</td>\n",
       "      <td>1955</td>\n",
       "      <td>[]</td>\n",
       "      <td>0</td>\n",
       "      <td>None</td>\n",
       "    </tr>\n",
       "    <tr>\n",
       "      <th>405</th>\n",
       "      <td>The Nobel Peace Prize</td>\n",
       "      <td>1948</td>\n",
       "      <td>[]</td>\n",
       "      <td>0</td>\n",
       "      <td>None</td>\n",
       "    </tr>\n",
       "    <tr>\n",
       "      <th>429</th>\n",
       "      <td>The Nobel Prize in Literature</td>\n",
       "      <td>1943</td>\n",
       "      <td>[]</td>\n",
       "      <td>0</td>\n",
       "      <td>None</td>\n",
       "    </tr>\n",
       "    <tr>\n",
       "      <th>430</th>\n",
       "      <td>The Nobel Peace Prize</td>\n",
       "      <td>1943</td>\n",
       "      <td>[]</td>\n",
       "      <td>0</td>\n",
       "      <td>None</td>\n",
       "    </tr>\n",
       "    <tr>\n",
       "      <th>431</th>\n",
       "      <td>The Nobel Prize in Physics</td>\n",
       "      <td>1942</td>\n",
       "      <td>[]</td>\n",
       "      <td>0</td>\n",
       "      <td>None</td>\n",
       "    </tr>\n",
       "    <tr>\n",
       "      <th>432</th>\n",
       "      <td>The Nobel Prize in Chemistry</td>\n",
       "      <td>1942</td>\n",
       "      <td>[]</td>\n",
       "      <td>0</td>\n",
       "      <td>None</td>\n",
       "    </tr>\n",
       "    <tr>\n",
       "      <th>433</th>\n",
       "      <td>The Nobel Prize in Physiology or Medicine</td>\n",
       "      <td>1942</td>\n",
       "      <td>[]</td>\n",
       "      <td>0</td>\n",
       "      <td>None</td>\n",
       "    </tr>\n",
       "    <tr>\n",
       "      <th>434</th>\n",
       "      <td>The Nobel Prize in Literature</td>\n",
       "      <td>1942</td>\n",
       "      <td>[]</td>\n",
       "      <td>0</td>\n",
       "      <td>None</td>\n",
       "    </tr>\n",
       "    <tr>\n",
       "      <th>435</th>\n",
       "      <td>The Nobel Peace Prize</td>\n",
       "      <td>1942</td>\n",
       "      <td>[]</td>\n",
       "      <td>0</td>\n",
       "      <td>None</td>\n",
       "    </tr>\n",
       "    <tr>\n",
       "      <th>436</th>\n",
       "      <td>The Nobel Prize in Physics</td>\n",
       "      <td>1941</td>\n",
       "      <td>[]</td>\n",
       "      <td>0</td>\n",
       "      <td>None</td>\n",
       "    </tr>\n",
       "    <tr>\n",
       "      <th>437</th>\n",
       "      <td>The Nobel Prize in Chemistry</td>\n",
       "      <td>1941</td>\n",
       "      <td>[]</td>\n",
       "      <td>0</td>\n",
       "      <td>None</td>\n",
       "    </tr>\n",
       "    <tr>\n",
       "      <th>438</th>\n",
       "      <td>The Nobel Prize in Physiology or Medicine</td>\n",
       "      <td>1941</td>\n",
       "      <td>[]</td>\n",
       "      <td>0</td>\n",
       "      <td>None</td>\n",
       "    </tr>\n",
       "    <tr>\n",
       "      <th>439</th>\n",
       "      <td>The Nobel Prize in Literature</td>\n",
       "      <td>1941</td>\n",
       "      <td>[]</td>\n",
       "      <td>0</td>\n",
       "      <td>None</td>\n",
       "    </tr>\n",
       "    <tr>\n",
       "      <th>440</th>\n",
       "      <td>The Nobel Peace Prize</td>\n",
       "      <td>1941</td>\n",
       "      <td>[]</td>\n",
       "      <td>0</td>\n",
       "      <td>None</td>\n",
       "    </tr>\n",
       "    <tr>\n",
       "      <th>441</th>\n",
       "      <td>The Nobel Prize in Physics</td>\n",
       "      <td>1940</td>\n",
       "      <td>[]</td>\n",
       "      <td>0</td>\n",
       "      <td>None</td>\n",
       "    </tr>\n",
       "    <tr>\n",
       "      <th>442</th>\n",
       "      <td>The Nobel Prize in Chemistry</td>\n",
       "      <td>1940</td>\n",
       "      <td>[]</td>\n",
       "      <td>0</td>\n",
       "      <td>None</td>\n",
       "    </tr>\n",
       "    <tr>\n",
       "      <th>443</th>\n",
       "      <td>The Nobel Prize in Physiology or Medicine</td>\n",
       "      <td>1940</td>\n",
       "      <td>[]</td>\n",
       "      <td>0</td>\n",
       "      <td>None</td>\n",
       "    </tr>\n",
       "    <tr>\n",
       "      <th>444</th>\n",
       "      <td>The Nobel Prize in Literature</td>\n",
       "      <td>1940</td>\n",
       "      <td>[]</td>\n",
       "      <td>0</td>\n",
       "      <td>None</td>\n",
       "    </tr>\n",
       "    <tr>\n",
       "      <th>445</th>\n",
       "      <td>The Nobel Peace Prize</td>\n",
       "      <td>1940</td>\n",
       "      <td>[]</td>\n",
       "      <td>0</td>\n",
       "      <td>None</td>\n",
       "    </tr>\n",
       "    <tr>\n",
       "      <th>450</th>\n",
       "      <td>The Nobel Peace Prize</td>\n",
       "      <td>1939</td>\n",
       "      <td>[]</td>\n",
       "      <td>0</td>\n",
       "      <td>None</td>\n",
       "    </tr>\n",
       "    <tr>\n",
       "      <th>469</th>\n",
       "      <td>The Nobel Prize in Literature</td>\n",
       "      <td>1935</td>\n",
       "      <td>[]</td>\n",
       "      <td>0</td>\n",
       "      <td>None</td>\n",
       "    </tr>\n",
       "    <tr>\n",
       "      <th>471</th>\n",
       "      <td>The Nobel Prize in Physics</td>\n",
       "      <td>1934</td>\n",
       "      <td>[]</td>\n",
       "      <td>0</td>\n",
       "      <td>None</td>\n",
       "    </tr>\n",
       "    <tr>\n",
       "      <th>477</th>\n",
       "      <td>The Nobel Prize in Chemistry</td>\n",
       "      <td>1933</td>\n",
       "      <td>[]</td>\n",
       "      <td>0</td>\n",
       "      <td>None</td>\n",
       "    </tr>\n",
       "    <tr>\n",
       "      <th>485</th>\n",
       "      <td>The Nobel Peace Prize</td>\n",
       "      <td>1932</td>\n",
       "      <td>[]</td>\n",
       "      <td>0</td>\n",
       "      <td>None</td>\n",
       "    </tr>\n",
       "    <tr>\n",
       "      <th>486</th>\n",
       "      <td>The Nobel Prize in Physics</td>\n",
       "      <td>1931</td>\n",
       "      <td>[]</td>\n",
       "      <td>0</td>\n",
       "      <td>None</td>\n",
       "    </tr>\n",
       "    <tr>\n",
       "      <th>505</th>\n",
       "      <td>The Nobel Peace Prize</td>\n",
       "      <td>1928</td>\n",
       "      <td>[]</td>\n",
       "      <td>0</td>\n",
       "      <td>None</td>\n",
       "    </tr>\n",
       "    <tr>\n",
       "      <th>518</th>\n",
       "      <td>The Nobel Prize in Physiology or Medicine</td>\n",
       "      <td>1925</td>\n",
       "      <td>[]</td>\n",
       "      <td>0</td>\n",
       "      <td>None</td>\n",
       "    </tr>\n",
       "    <tr>\n",
       "      <th>522</th>\n",
       "      <td>The Nobel Prize in Chemistry</td>\n",
       "      <td>1924</td>\n",
       "      <td>[]</td>\n",
       "      <td>0</td>\n",
       "      <td>None</td>\n",
       "    </tr>\n",
       "    <tr>\n",
       "      <th>525</th>\n",
       "      <td>The Nobel Peace Prize</td>\n",
       "      <td>1924</td>\n",
       "      <td>[]</td>\n",
       "      <td>0</td>\n",
       "      <td>None</td>\n",
       "    </tr>\n",
       "    <tr>\n",
       "      <th>530</th>\n",
       "      <td>The Nobel Peace Prize</td>\n",
       "      <td>1923</td>\n",
       "      <td>[]</td>\n",
       "      <td>0</td>\n",
       "      <td>None</td>\n",
       "    </tr>\n",
       "    <tr>\n",
       "      <th>538</th>\n",
       "      <td>The Nobel Prize in Physiology or Medicine</td>\n",
       "      <td>1921</td>\n",
       "      <td>[]</td>\n",
       "      <td>0</td>\n",
       "      <td>None</td>\n",
       "    </tr>\n",
       "    <tr>\n",
       "      <th>547</th>\n",
       "      <td>The Nobel Prize in Chemistry</td>\n",
       "      <td>1919</td>\n",
       "      <td>[]</td>\n",
       "      <td>0</td>\n",
       "      <td>None</td>\n",
       "    </tr>\n",
       "    <tr>\n",
       "      <th>553</th>\n",
       "      <td>The Nobel Prize in Physiology or Medicine</td>\n",
       "      <td>1918</td>\n",
       "      <td>[]</td>\n",
       "      <td>0</td>\n",
       "      <td>None</td>\n",
       "    </tr>\n",
       "    <tr>\n",
       "      <th>554</th>\n",
       "      <td>The Nobel Prize in Literature</td>\n",
       "      <td>1918</td>\n",
       "      <td>[]</td>\n",
       "      <td>0</td>\n",
       "      <td>None</td>\n",
       "    </tr>\n",
       "    <tr>\n",
       "      <th>555</th>\n",
       "      <td>The Nobel Peace Prize</td>\n",
       "      <td>1918</td>\n",
       "      <td>[]</td>\n",
       "      <td>0</td>\n",
       "      <td>None</td>\n",
       "    </tr>\n",
       "    <tr>\n",
       "      <th>557</th>\n",
       "      <td>The Nobel Prize in Chemistry</td>\n",
       "      <td>1917</td>\n",
       "      <td>[]</td>\n",
       "      <td>0</td>\n",
       "      <td>None</td>\n",
       "    </tr>\n",
       "    <tr>\n",
       "      <th>558</th>\n",
       "      <td>The Nobel Prize in Physiology or Medicine</td>\n",
       "      <td>1917</td>\n",
       "      <td>[]</td>\n",
       "      <td>0</td>\n",
       "      <td>None</td>\n",
       "    </tr>\n",
       "    <tr>\n",
       "      <th>561</th>\n",
       "      <td>The Nobel Prize in Physics</td>\n",
       "      <td>1916</td>\n",
       "      <td>[]</td>\n",
       "      <td>0</td>\n",
       "      <td>None</td>\n",
       "    </tr>\n",
       "    <tr>\n",
       "      <th>562</th>\n",
       "      <td>The Nobel Prize in Chemistry</td>\n",
       "      <td>1916</td>\n",
       "      <td>[]</td>\n",
       "      <td>0</td>\n",
       "      <td>None</td>\n",
       "    </tr>\n",
       "    <tr>\n",
       "      <th>563</th>\n",
       "      <td>The Nobel Prize in Physiology or Medicine</td>\n",
       "      <td>1916</td>\n",
       "      <td>[]</td>\n",
       "      <td>0</td>\n",
       "      <td>None</td>\n",
       "    </tr>\n",
       "    <tr>\n",
       "      <th>565</th>\n",
       "      <td>The Nobel Peace Prize</td>\n",
       "      <td>1916</td>\n",
       "      <td>[]</td>\n",
       "      <td>0</td>\n",
       "      <td>None</td>\n",
       "    </tr>\n",
       "    <tr>\n",
       "      <th>568</th>\n",
       "      <td>The Nobel Prize in Physiology or Medicine</td>\n",
       "      <td>1915</td>\n",
       "      <td>[]</td>\n",
       "      <td>0</td>\n",
       "      <td>None</td>\n",
       "    </tr>\n",
       "    <tr>\n",
       "      <th>570</th>\n",
       "      <td>The Nobel Peace Prize</td>\n",
       "      <td>1915</td>\n",
       "      <td>[]</td>\n",
       "      <td>0</td>\n",
       "      <td>None</td>\n",
       "    </tr>\n",
       "    <tr>\n",
       "      <th>574</th>\n",
       "      <td>The Nobel Prize in Literature</td>\n",
       "      <td>1914</td>\n",
       "      <td>[]</td>\n",
       "      <td>0</td>\n",
       "      <td>None</td>\n",
       "    </tr>\n",
       "    <tr>\n",
       "      <th>575</th>\n",
       "      <td>The Nobel Peace Prize</td>\n",
       "      <td>1914</td>\n",
       "      <td>[]</td>\n",
       "      <td>0</td>\n",
       "      <td>None</td>\n",
       "    </tr>\n",
       "  </tbody>\n",
       "</table>\n",
       "</div>"
      ],
      "text/plain": [
       "                                          title  year recipients  \\\n",
       "1                   The Nobel Prize in Physics   2018         []   \n",
       "281                      The Nobel Peace Prize   1972         []   \n",
       "310                      The Nobel Peace Prize   1967         []   \n",
       "315                      The Nobel Peace Prize   1966         []   \n",
       "365                      The Nobel Peace Prize   1956         []   \n",
       "370                      The Nobel Peace Prize   1955         []   \n",
       "405                      The Nobel Peace Prize   1948         []   \n",
       "429              The Nobel Prize in Literature   1943         []   \n",
       "430                      The Nobel Peace Prize   1943         []   \n",
       "431                 The Nobel Prize in Physics   1942         []   \n",
       "432               The Nobel Prize in Chemistry   1942         []   \n",
       "433  The Nobel Prize in Physiology or Medicine   1942         []   \n",
       "434              The Nobel Prize in Literature   1942         []   \n",
       "435                      The Nobel Peace Prize   1942         []   \n",
       "436                 The Nobel Prize in Physics   1941         []   \n",
       "437               The Nobel Prize in Chemistry   1941         []   \n",
       "438  The Nobel Prize in Physiology or Medicine   1941         []   \n",
       "439              The Nobel Prize in Literature   1941         []   \n",
       "440                      The Nobel Peace Prize   1941         []   \n",
       "441                 The Nobel Prize in Physics   1940         []   \n",
       "442               The Nobel Prize in Chemistry   1940         []   \n",
       "443  The Nobel Prize in Physiology or Medicine   1940         []   \n",
       "444              The Nobel Prize in Literature   1940         []   \n",
       "445                      The Nobel Peace Prize   1940         []   \n",
       "450                      The Nobel Peace Prize   1939         []   \n",
       "469              The Nobel Prize in Literature   1935         []   \n",
       "471                 The Nobel Prize in Physics   1934         []   \n",
       "477               The Nobel Prize in Chemistry   1933         []   \n",
       "485                      The Nobel Peace Prize   1932         []   \n",
       "486                 The Nobel Prize in Physics   1931         []   \n",
       "505                      The Nobel Peace Prize   1928         []   \n",
       "518  The Nobel Prize in Physiology or Medicine   1925         []   \n",
       "522               The Nobel Prize in Chemistry   1924         []   \n",
       "525                      The Nobel Peace Prize   1924         []   \n",
       "530                      The Nobel Peace Prize   1923         []   \n",
       "538  The Nobel Prize in Physiology or Medicine   1921         []   \n",
       "547               The Nobel Prize in Chemistry   1919         []   \n",
       "553  The Nobel Prize in Physiology or Medicine   1918         []   \n",
       "554              The Nobel Prize in Literature   1918         []   \n",
       "555                      The Nobel Peace Prize   1918         []   \n",
       "557               The Nobel Prize in Chemistry   1917         []   \n",
       "558  The Nobel Prize in Physiology or Medicine   1917         []   \n",
       "561                 The Nobel Prize in Physics   1916         []   \n",
       "562               The Nobel Prize in Chemistry   1916         []   \n",
       "563  The Nobel Prize in Physiology or Medicine   1916         []   \n",
       "565                      The Nobel Peace Prize   1916         []   \n",
       "568  The Nobel Prize in Physiology or Medicine   1915         []   \n",
       "570                      The Nobel Peace Prize   1915         []   \n",
       "574              The Nobel Prize in Literature   1914         []   \n",
       "575                      The Nobel Peace Prize   1914         []   \n",
       "\n",
       "     num_recipients motivation  \n",
       "1                 0       None  \n",
       "281               0       None  \n",
       "310               0       None  \n",
       "315               0       None  \n",
       "365               0       None  \n",
       "370               0       None  \n",
       "405               0       None  \n",
       "429               0       None  \n",
       "430               0       None  \n",
       "431               0       None  \n",
       "432               0       None  \n",
       "433               0       None  \n",
       "434               0       None  \n",
       "435               0       None  \n",
       "436               0       None  \n",
       "437               0       None  \n",
       "438               0       None  \n",
       "439               0       None  \n",
       "440               0       None  \n",
       "441               0       None  \n",
       "442               0       None  \n",
       "443               0       None  \n",
       "444               0       None  \n",
       "445               0       None  \n",
       "450               0       None  \n",
       "469               0       None  \n",
       "471               0       None  \n",
       "477               0       None  \n",
       "485               0       None  \n",
       "486               0       None  \n",
       "505               0       None  \n",
       "518               0       None  \n",
       "522               0       None  \n",
       "525               0       None  \n",
       "530               0       None  \n",
       "538               0       None  \n",
       "547               0       None  \n",
       "553               0       None  \n",
       "554               0       None  \n",
       "555               0       None  \n",
       "557               0       None  \n",
       "558               0       None  \n",
       "561               0       None  \n",
       "562               0       None  \n",
       "563               0       None  \n",
       "565               0       None  \n",
       "568               0       None  \n",
       "570               0       None  \n",
       "574               0       None  \n",
       "575               0       None  "
      ]
     },
     "execution_count": 84,
     "metadata": {},
     "output_type": "execute_result"
    }
   ],
   "source": [
    "df_awards_raw[df_awards_raw.num_recipients == 0]"
   ]
  },
  {
   "cell_type": "code",
   "execution_count": 85,
   "metadata": {},
   "outputs": [
    {
     "name": "stdout",
     "output_type": "stream",
     "text": [
      "<class 'pandas.core.frame.DataFrame'>\n",
      "Int64Index: 641 entries, 0 to 640\n",
      "Data columns (total 5 columns):\n",
      " #   Column          Non-Null Count  Dtype \n",
      "---  ------          --------------  ----- \n",
      " 0   title           641 non-null    object\n",
      " 1   year            641 non-null    object\n",
      " 2   recipients      641 non-null    object\n",
      " 3   num_recipients  641 non-null    int64 \n",
      " 4   motivation      517 non-null    object\n",
      "dtypes: int64(1), object(4)\n",
      "memory usage: 30.0+ KB\n"
     ]
    }
   ],
   "source": [
    "df_awards_past = df_awards_raw[df_awards_raw.year != 2018]\n",
    "df_awards_past.info()"
   ]
  },
  {
   "cell_type": "code",
   "execution_count": 86,
   "metadata": {
    "scrolled": true
   },
   "outputs": [
    {
     "data": {
      "text/html": [
       "<div>\n",
       "<style scoped>\n",
       "    .dataframe tbody tr th:only-of-type {\n",
       "        vertical-align: middle;\n",
       "    }\n",
       "\n",
       "    .dataframe tbody tr th {\n",
       "        vertical-align: top;\n",
       "    }\n",
       "\n",
       "    .dataframe thead th {\n",
       "        text-align: right;\n",
       "    }\n",
       "</style>\n",
       "<table border=\"1\" class=\"dataframe\">\n",
       "  <thead>\n",
       "    <tr style=\"text-align: right;\">\n",
       "      <th></th>\n",
       "      <th>title</th>\n",
       "      <th>year</th>\n",
       "      <th>recipients</th>\n",
       "      <th>num_recipients</th>\n",
       "      <th>motivation</th>\n",
       "    </tr>\n",
       "  </thead>\n",
       "  <tbody>\n",
       "    <tr>\n",
       "      <th>0</th>\n",
       "      <td>The Nobel Prize in Physics</td>\n",
       "      <td>2019</td>\n",
       "      <td>[James Peebles, Michel Mayor, Didier Queloz, J...</td>\n",
       "      <td>14</td>\n",
       "      <td>None</td>\n",
       "    </tr>\n",
       "    <tr>\n",
       "      <th>1</th>\n",
       "      <td>The Nobel Prize in Physics</td>\n",
       "      <td>2018</td>\n",
       "      <td>[]</td>\n",
       "      <td>0</td>\n",
       "      <td>None</td>\n",
       "    </tr>\n",
       "    <tr>\n",
       "      <th>2</th>\n",
       "      <td>Arthur As</td>\n",
       "      <td>hkin</td>\n",
       "      <td>[Arthur Ashkin, Gérard Mourou, Donna Strickland]</td>\n",
       "      <td>3</td>\n",
       "      <td>None</td>\n",
       "    </tr>\n",
       "    <tr>\n",
       "      <th>3</th>\n",
       "      <td>The Nobel Prize in Chemistry</td>\n",
       "      <td>2018</td>\n",
       "      <td>[Frances H. Arnold, George P. Smith, Sir Grego...</td>\n",
       "      <td>5</td>\n",
       "      <td>None</td>\n",
       "    </tr>\n",
       "    <tr>\n",
       "      <th>4</th>\n",
       "      <td>The Nobel Prize in Literature</td>\n",
       "      <td>2018</td>\n",
       "      <td>[Olga Tokarczuk]</td>\n",
       "      <td>1</td>\n",
       "      <td>None</td>\n",
       "    </tr>\n",
       "    <tr>\n",
       "      <th>...</th>\n",
       "      <td>...</td>\n",
       "      <td>...</td>\n",
       "      <td>...</td>\n",
       "      <td>...</td>\n",
       "      <td>...</td>\n",
       "    </tr>\n",
       "    <tr>\n",
       "      <th>620</th>\n",
       "      <td>The Nobel Peace Prize</td>\n",
       "      <td>1905</td>\n",
       "      <td>[Baroness Bertha Sophie Felicita von Suttner, ...</td>\n",
       "      <td>1</td>\n",
       "      <td>None</td>\n",
       "    </tr>\n",
       "    <tr>\n",
       "      <th>625</th>\n",
       "      <td>The Nobel Peace Prize</td>\n",
       "      <td>1904</td>\n",
       "      <td>[Institut de droit international (Institute of...</td>\n",
       "      <td>1</td>\n",
       "      <td>None</td>\n",
       "    </tr>\n",
       "    <tr>\n",
       "      <th>630</th>\n",
       "      <td>The Nobel Peace Prize</td>\n",
       "      <td>1903</td>\n",
       "      <td>[William Randal Cremer]</td>\n",
       "      <td>1</td>\n",
       "      <td>None</td>\n",
       "    </tr>\n",
       "    <tr>\n",
       "      <th>635</th>\n",
       "      <td>The Nobel Peace Prize</td>\n",
       "      <td>1902</td>\n",
       "      <td>[Élie Ducommun, Charles Albert Gobat]</td>\n",
       "      <td>2</td>\n",
       "      <td>None</td>\n",
       "    </tr>\n",
       "    <tr>\n",
       "      <th>640</th>\n",
       "      <td>The Nobel Peace Prize</td>\n",
       "      <td>1901</td>\n",
       "      <td>[Jean Henry Dunant, Frédéric Passy]</td>\n",
       "      <td>2</td>\n",
       "      <td>None</td>\n",
       "    </tr>\n",
       "  </tbody>\n",
       "</table>\n",
       "<p>124 rows × 5 columns</p>\n",
       "</div>"
      ],
      "text/plain": [
       "                              title  year  \\\n",
       "0       The Nobel Prize in Physics   2019   \n",
       "1       The Nobel Prize in Physics   2018   \n",
       "2                         Arthur As  hkin   \n",
       "3     The Nobel Prize in Chemistry   2018   \n",
       "4    The Nobel Prize in Literature   2018   \n",
       "..                              ...   ...   \n",
       "620          The Nobel Peace Prize   1905   \n",
       "625          The Nobel Peace Prize   1904   \n",
       "630          The Nobel Peace Prize   1903   \n",
       "635          The Nobel Peace Prize   1902   \n",
       "640          The Nobel Peace Prize   1901   \n",
       "\n",
       "                                            recipients  num_recipients  \\\n",
       "0    [James Peebles, Michel Mayor, Didier Queloz, J...              14   \n",
       "1                                                   []               0   \n",
       "2     [Arthur Ashkin, Gérard Mourou, Donna Strickland]               3   \n",
       "3    [Frances H. Arnold, George P. Smith, Sir Grego...               5   \n",
       "4                                     [Olga Tokarczuk]               1   \n",
       "..                                                 ...             ...   \n",
       "620  [Baroness Bertha Sophie Felicita von Suttner, ...               1   \n",
       "625  [Institut de droit international (Institute of...               1   \n",
       "630                            [William Randal Cremer]               1   \n",
       "635              [Élie Ducommun, Charles Albert Gobat]               2   \n",
       "640                [Jean Henry Dunant, Frédéric Passy]               2   \n",
       "\n",
       "    motivation  \n",
       "0         None  \n",
       "1         None  \n",
       "2         None  \n",
       "3         None  \n",
       "4         None  \n",
       "..         ...  \n",
       "620       None  \n",
       "625       None  \n",
       "630       None  \n",
       "635       None  \n",
       "640       None  \n",
       "\n",
       "[124 rows x 5 columns]"
      ]
     },
     "execution_count": 86,
     "metadata": {},
     "output_type": "execute_result"
    }
   ],
   "source": [
    "df_awards_past[df_awards_past.motivation.isnull()]"
   ]
  },
  {
   "cell_type": "code",
   "execution_count": 87,
   "metadata": {
    "scrolled": true
   },
   "outputs": [
    {
     "data": {
      "text/html": [
       "<div>\n",
       "<style scoped>\n",
       "    .dataframe tbody tr th:only-of-type {\n",
       "        vertical-align: middle;\n",
       "    }\n",
       "\n",
       "    .dataframe tbody tr th {\n",
       "        vertical-align: top;\n",
       "    }\n",
       "\n",
       "    .dataframe thead th {\n",
       "        text-align: right;\n",
       "    }\n",
       "</style>\n",
       "<table border=\"1\" class=\"dataframe\">\n",
       "  <thead>\n",
       "    <tr style=\"text-align: right;\">\n",
       "      <th></th>\n",
       "      <th>title</th>\n",
       "      <th>year</th>\n",
       "      <th>recipients</th>\n",
       "      <th>num_recipients</th>\n",
       "      <th>motivation</th>\n",
       "    </tr>\n",
       "  </thead>\n",
       "  <tbody>\n",
       "    <tr>\n",
       "      <th>640</th>\n",
       "      <td>The Nobel Peace Prize</td>\n",
       "      <td>1901</td>\n",
       "      <td>[Jean Henry Dunant, Frédéric Passy]</td>\n",
       "      <td>2</td>\n",
       "      <td>None</td>\n",
       "    </tr>\n",
       "    <tr>\n",
       "      <th>636</th>\n",
       "      <td>The Nobel Prize in Physics</td>\n",
       "      <td>1901</td>\n",
       "      <td>[Wilhelm Conrad Röntgen]</td>\n",
       "      <td>1</td>\n",
       "      <td>in recognition of the extraordinary services h...</td>\n",
       "    </tr>\n",
       "    <tr>\n",
       "      <th>639</th>\n",
       "      <td>The Nobel Prize in Literature</td>\n",
       "      <td>1901</td>\n",
       "      <td>[Sully Prudhomme]</td>\n",
       "      <td>1</td>\n",
       "      <td>in special recognition of his poetic compositi...</td>\n",
       "    </tr>\n",
       "    <tr>\n",
       "      <th>638</th>\n",
       "      <td>The Nobel Prize in Physiology or Medicine</td>\n",
       "      <td>1901</td>\n",
       "      <td>[Emil Adolf von Behring]</td>\n",
       "      <td>1</td>\n",
       "      <td>for his work on serum therapy, especially its ...</td>\n",
       "    </tr>\n",
       "    <tr>\n",
       "      <th>637</th>\n",
       "      <td>The Nobel Prize in Chemistry</td>\n",
       "      <td>1901</td>\n",
       "      <td>[Jacobus Henricus van ‘t Hoff]</td>\n",
       "      <td>1</td>\n",
       "      <td>in recognition of the extraordinary services h...</td>\n",
       "    </tr>\n",
       "    <tr>\n",
       "      <th>...</th>\n",
       "      <td>...</td>\n",
       "      <td>...</td>\n",
       "      <td>...</td>\n",
       "      <td>...</td>\n",
       "      <td>...</td>\n",
       "    </tr>\n",
       "    <tr>\n",
       "      <th>4</th>\n",
       "      <td>The Nobel Prize in Literature</td>\n",
       "      <td>2018</td>\n",
       "      <td>[Olga Tokarczuk]</td>\n",
       "      <td>1</td>\n",
       "      <td>None</td>\n",
       "    </tr>\n",
       "    <tr>\n",
       "      <th>3</th>\n",
       "      <td>The Nobel Prize in Chemistry</td>\n",
       "      <td>2018</td>\n",
       "      <td>[Frances H. Arnold, George P. Smith, Sir Grego...</td>\n",
       "      <td>5</td>\n",
       "      <td>None</td>\n",
       "    </tr>\n",
       "    <tr>\n",
       "      <th>1</th>\n",
       "      <td>The Nobel Prize in Physics</td>\n",
       "      <td>2018</td>\n",
       "      <td>[]</td>\n",
       "      <td>0</td>\n",
       "      <td>None</td>\n",
       "    </tr>\n",
       "    <tr>\n",
       "      <th>0</th>\n",
       "      <td>The Nobel Prize in Physics</td>\n",
       "      <td>2019</td>\n",
       "      <td>[James Peebles, Michel Mayor, Didier Queloz, J...</td>\n",
       "      <td>14</td>\n",
       "      <td>None</td>\n",
       "    </tr>\n",
       "    <tr>\n",
       "      <th>2</th>\n",
       "      <td>Arthur As</td>\n",
       "      <td>hkin</td>\n",
       "      <td>[Arthur Ashkin, Gérard Mourou, Donna Strickland]</td>\n",
       "      <td>3</td>\n",
       "      <td>None</td>\n",
       "    </tr>\n",
       "  </tbody>\n",
       "</table>\n",
       "<p>641 rows × 5 columns</p>\n",
       "</div>"
      ],
      "text/plain": [
       "                                          title  year  \\\n",
       "640                      The Nobel Peace Prize   1901   \n",
       "636                 The Nobel Prize in Physics   1901   \n",
       "639              The Nobel Prize in Literature   1901   \n",
       "638  The Nobel Prize in Physiology or Medicine   1901   \n",
       "637               The Nobel Prize in Chemistry   1901   \n",
       "..                                          ...   ...   \n",
       "4                The Nobel Prize in Literature   2018   \n",
       "3                 The Nobel Prize in Chemistry   2018   \n",
       "1                   The Nobel Prize in Physics   2018   \n",
       "0                   The Nobel Prize in Physics   2019   \n",
       "2                                     Arthur As  hkin   \n",
       "\n",
       "                                            recipients  num_recipients  \\\n",
       "640                [Jean Henry Dunant, Frédéric Passy]               2   \n",
       "636                           [Wilhelm Conrad Röntgen]               1   \n",
       "639                                  [Sully Prudhomme]               1   \n",
       "638                           [Emil Adolf von Behring]               1   \n",
       "637                     [Jacobus Henricus van ‘t Hoff]               1   \n",
       "..                                                 ...             ...   \n",
       "4                                     [Olga Tokarczuk]               1   \n",
       "3    [Frances H. Arnold, George P. Smith, Sir Grego...               5   \n",
       "1                                                   []               0   \n",
       "0    [James Peebles, Michel Mayor, Didier Queloz, J...              14   \n",
       "2     [Arthur Ashkin, Gérard Mourou, Donna Strickland]               3   \n",
       "\n",
       "                                            motivation  \n",
       "640                                               None  \n",
       "636  in recognition of the extraordinary services h...  \n",
       "639  in special recognition of his poetic compositi...  \n",
       "638  for his work on serum therapy, especially its ...  \n",
       "637  in recognition of the extraordinary services h...  \n",
       "..                                                 ...  \n",
       "4                                                 None  \n",
       "3                                                 None  \n",
       "1                                                 None  \n",
       "0                                                 None  \n",
       "2                                                 None  \n",
       "\n",
       "[641 rows x 5 columns]"
      ]
     },
     "execution_count": 87,
     "metadata": {},
     "output_type": "execute_result"
    }
   ],
   "source": [
    "df_awards_raw.sort_values(by=['year'], ascending=True)"
   ]
  },
  {
   "cell_type": "code",
   "execution_count": 88,
   "metadata": {},
   "outputs": [
    {
     "data": {
      "image/png": "[encoded data removed]",
      "text/plain": [
       "<Figure size 432x288 with 1 Axes>"
      ]
     },
     "metadata": {},
     "output_type": "display_data"
    }
   ],
   "source": [
    "df_awards_past.plot.scatter(x='year', y='num_recipients');"
   ]
  },
  {
   "cell_type": "code",
   "execution_count": 89,
   "metadata": {},
   "outputs": [
    {
     "data": {
      "text/plain": [
       "<matplotlib.axes._subplots.AxesSubplot at 0x1a23c6c8d0>"
      ]
     },
     "execution_count": 89,
     "metadata": {},
     "output_type": "execute_result"
    },
    {
     "data": {
      "image/png": "[encoded data removed]",
      "text/plain": [
       "<Figure size 432x288 with 1 Axes>"
      ]
     },
     "metadata": {},
     "output_type": "display_data"
    }
   ],
   "source": [
    "df_awards_past.groupby('year').num_recipients.mean().plot.line()"
   ]
  },
  {
   "cell_type": "code",
   "execution_count": 90,
   "metadata": {
    "scrolled": true
   },
   "outputs": [
    {
     "ename": "UFuncTypeError",
     "evalue": "ufunc 'multiply' did not contain a loop with signature matching types (dtype('<U32'), dtype('<U32')) -> dtype('<U32')",
     "output_type": "error",
     "traceback": [
      "\u001b[0;31m---------------------------------------------------------------------------\u001b[0m",
      "\u001b[0;31mUFuncTypeError\u001b[0m                            Traceback (most recent call last)",
      "\u001b[0;32m<ipython-input-90-76aecaca9adc>\u001b[0m in \u001b[0;36m<module>\u001b[0;34m\u001b[0m\n\u001b[0;32m----> 1\u001b[0;31m \u001b[0msns\u001b[0m\u001b[0;34m.\u001b[0m\u001b[0mlmplot\u001b[0m\u001b[0;34m(\u001b[0m\u001b[0mx\u001b[0m\u001b[0;34m=\u001b[0m\u001b[0;34m'year'\u001b[0m\u001b[0;34m,\u001b[0m \u001b[0my\u001b[0m\u001b[0;34m=\u001b[0m\u001b[0;34m'num_recipients'\u001b[0m\u001b[0;34m,\u001b[0m \u001b[0mhue\u001b[0m\u001b[0;34m=\u001b[0m\u001b[0;34m'title'\u001b[0m\u001b[0;34m,\u001b[0m \u001b[0mdata\u001b[0m\u001b[0;34m=\u001b[0m\u001b[0mdf_awards_past\u001b[0m\u001b[0;34m,\u001b[0m \u001b[0mscatter_kws\u001b[0m\u001b[0;34m=\u001b[0m\u001b[0mdict\u001b[0m\u001b[0;34m(\u001b[0m\u001b[0malpha\u001b[0m\u001b[0;34m=\u001b[0m\u001b[0;36m.1\u001b[0m\u001b[0;34m)\u001b[0m\u001b[0;34m)\u001b[0m\u001b[0;34m\u001b[0m\u001b[0;34m\u001b[0m\u001b[0m\n\u001b[0m\u001b[1;32m      2\u001b[0m \u001b[0mplt\u001b[0m\u001b[0;34m.\u001b[0m\u001b[0mxlim\u001b[0m\u001b[0;34m(\u001b[0m\u001b[0;36m1900\u001b[0m\u001b[0;34m,\u001b[0m \u001b[0;36m2018\u001b[0m\u001b[0;34m)\u001b[0m\u001b[0;34m;\u001b[0m\u001b[0;34m\u001b[0m\u001b[0;34m\u001b[0m\u001b[0m\n",
      "\u001b[0;32m~/opt/anaconda3/lib/python3.7/site-packages/seaborn/regression.py\u001b[0m in \u001b[0;36mlmplot\u001b[0;34m(x, y, data, hue, col, row, palette, col_wrap, height, aspect, markers, sharex, sharey, hue_order, col_order, row_order, legend, legend_out, x_estimator, x_bins, x_ci, scatter, fit_reg, ci, n_boot, units, seed, order, logistic, lowess, robust, logx, x_partial, y_partial, truncate, x_jitter, y_jitter, scatter_kws, line_kws, size)\u001b[0m\n\u001b[1;32m    615\u001b[0m         \u001b[0mscatter_kws\u001b[0m\u001b[0;34m=\u001b[0m\u001b[0mscatter_kws\u001b[0m\u001b[0;34m,\u001b[0m \u001b[0mline_kws\u001b[0m\u001b[0;34m=\u001b[0m\u001b[0mline_kws\u001b[0m\u001b[0;34m,\u001b[0m\u001b[0;34m\u001b[0m\u001b[0;34m\u001b[0m\u001b[0m\n\u001b[1;32m    616\u001b[0m         )\n\u001b[0;32m--> 617\u001b[0;31m     \u001b[0mfacets\u001b[0m\u001b[0;34m.\u001b[0m\u001b[0mmap_dataframe\u001b[0m\u001b[0;34m(\u001b[0m\u001b[0mregplot\u001b[0m\u001b[0;34m,\u001b[0m \u001b[0mx\u001b[0m\u001b[0;34m,\u001b[0m \u001b[0my\u001b[0m\u001b[0;34m,\u001b[0m \u001b[0;34m**\u001b[0m\u001b[0mregplot_kws\u001b[0m\u001b[0;34m)\u001b[0m\u001b[0;34m\u001b[0m\u001b[0;34m\u001b[0m\u001b[0m\n\u001b[0m\u001b[1;32m    618\u001b[0m \u001b[0;34m\u001b[0m\u001b[0m\n\u001b[1;32m    619\u001b[0m     \u001b[0;31m# Add a legend\u001b[0m\u001b[0;34m\u001b[0m\u001b[0;34m\u001b[0m\u001b[0;34m\u001b[0m\u001b[0m\n",
      "\u001b[0;32m~/opt/anaconda3/lib/python3.7/site-packages/seaborn/axisgrid.py\u001b[0m in \u001b[0;36mmap_dataframe\u001b[0;34m(self, func, *args, **kwargs)\u001b[0m\n\u001b[1;32m    831\u001b[0m \u001b[0;34m\u001b[0m\u001b[0m\n\u001b[1;32m    832\u001b[0m             \u001b[0;31m# Draw the plot\u001b[0m\u001b[0;34m\u001b[0m\u001b[0;34m\u001b[0m\u001b[0;34m\u001b[0m\u001b[0m\n\u001b[0;32m--> 833\u001b[0;31m             \u001b[0mself\u001b[0m\u001b[0;34m.\u001b[0m\u001b[0m_facet_plot\u001b[0m\u001b[0;34m(\u001b[0m\u001b[0mfunc\u001b[0m\u001b[0;34m,\u001b[0m \u001b[0max\u001b[0m\u001b[0;34m,\u001b[0m \u001b[0margs\u001b[0m\u001b[0;34m,\u001b[0m \u001b[0mkwargs\u001b[0m\u001b[0;34m)\u001b[0m\u001b[0;34m\u001b[0m\u001b[0;34m\u001b[0m\u001b[0m\n\u001b[0m\u001b[1;32m    834\u001b[0m \u001b[0;34m\u001b[0m\u001b[0m\n\u001b[1;32m    835\u001b[0m         \u001b[0;31m# Finalize the annotations and layout\u001b[0m\u001b[0;34m\u001b[0m\u001b[0;34m\u001b[0m\u001b[0;34m\u001b[0m\u001b[0m\n",
      "\u001b[0;32m~/opt/anaconda3/lib/python3.7/site-packages/seaborn/axisgrid.py\u001b[0m in \u001b[0;36m_facet_plot\u001b[0;34m(self, func, ax, plot_args, plot_kwargs)\u001b[0m\n\u001b[1;32m    849\u001b[0m \u001b[0;34m\u001b[0m\u001b[0m\n\u001b[1;32m    850\u001b[0m         \u001b[0;31m# Draw the plot\u001b[0m\u001b[0;34m\u001b[0m\u001b[0;34m\u001b[0m\u001b[0;34m\u001b[0m\u001b[0m\n\u001b[0;32m--> 851\u001b[0;31m         \u001b[0mfunc\u001b[0m\u001b[0;34m(\u001b[0m\u001b[0;34m*\u001b[0m\u001b[0mplot_args\u001b[0m\u001b[0;34m,\u001b[0m \u001b[0;34m**\u001b[0m\u001b[0mplot_kwargs\u001b[0m\u001b[0;34m)\u001b[0m\u001b[0;34m\u001b[0m\u001b[0;34m\u001b[0m\u001b[0m\n\u001b[0m\u001b[1;32m    852\u001b[0m \u001b[0;34m\u001b[0m\u001b[0m\n\u001b[1;32m    853\u001b[0m         \u001b[0;31m# Sort out the supporting information\u001b[0m\u001b[0;34m\u001b[0m\u001b[0;34m\u001b[0m\u001b[0;34m\u001b[0m\u001b[0m\n",
      "\u001b[0;32m~/opt/anaconda3/lib/python3.7/site-packages/seaborn/regression.py\u001b[0m in \u001b[0;36mregplot\u001b[0;34m(x, y, data, x_estimator, x_bins, x_ci, scatter, fit_reg, ci, n_boot, units, seed, order, logistic, lowess, robust, logx, x_partial, y_partial, truncate, dropna, x_jitter, y_jitter, label, color, marker, scatter_kws, line_kws, ax)\u001b[0m\n\u001b[1;32m    816\u001b[0m     \u001b[0mscatter_kws\u001b[0m\u001b[0;34m[\u001b[0m\u001b[0;34m\"marker\"\u001b[0m\u001b[0;34m]\u001b[0m \u001b[0;34m=\u001b[0m \u001b[0mmarker\u001b[0m\u001b[0;34m\u001b[0m\u001b[0;34m\u001b[0m\u001b[0m\n\u001b[1;32m    817\u001b[0m     \u001b[0mline_kws\u001b[0m \u001b[0;34m=\u001b[0m \u001b[0;34m{\u001b[0m\u001b[0;34m}\u001b[0m \u001b[0;32mif\u001b[0m \u001b[0mline_kws\u001b[0m \u001b[0;32mis\u001b[0m \u001b[0;32mNone\u001b[0m \u001b[0;32melse\u001b[0m \u001b[0mcopy\u001b[0m\u001b[0;34m.\u001b[0m\u001b[0mcopy\u001b[0m\u001b[0;34m(\u001b[0m\u001b[0mline_kws\u001b[0m\u001b[0;34m)\u001b[0m\u001b[0;34m\u001b[0m\u001b[0;34m\u001b[0m\u001b[0m\n\u001b[0;32m--> 818\u001b[0;31m     \u001b[0mplotter\u001b[0m\u001b[0;34m.\u001b[0m\u001b[0mplot\u001b[0m\u001b[0;34m(\u001b[0m\u001b[0max\u001b[0m\u001b[0;34m,\u001b[0m \u001b[0mscatter_kws\u001b[0m\u001b[0;34m,\u001b[0m \u001b[0mline_kws\u001b[0m\u001b[0;34m)\u001b[0m\u001b[0;34m\u001b[0m\u001b[0;34m\u001b[0m\u001b[0m\n\u001b[0m\u001b[1;32m    819\u001b[0m     \u001b[0;32mreturn\u001b[0m \u001b[0max\u001b[0m\u001b[0;34m\u001b[0m\u001b[0;34m\u001b[0m\u001b[0m\n\u001b[1;32m    820\u001b[0m \u001b[0;34m\u001b[0m\u001b[0m\n",
      "\u001b[0;32m~/opt/anaconda3/lib/python3.7/site-packages/seaborn/regression.py\u001b[0m in \u001b[0;36mplot\u001b[0;34m(self, ax, scatter_kws, line_kws)\u001b[0m\n\u001b[1;32m    363\u001b[0m \u001b[0;34m\u001b[0m\u001b[0m\n\u001b[1;32m    364\u001b[0m         \u001b[0;32mif\u001b[0m \u001b[0mself\u001b[0m\u001b[0;34m.\u001b[0m\u001b[0mfit_reg\u001b[0m\u001b[0;34m:\u001b[0m\u001b[0;34m\u001b[0m\u001b[0;34m\u001b[0m\u001b[0m\n\u001b[0;32m--> 365\u001b[0;31m             \u001b[0mself\u001b[0m\u001b[0;34m.\u001b[0m\u001b[0mlineplot\u001b[0m\u001b[0;34m(\u001b[0m\u001b[0max\u001b[0m\u001b[0;34m,\u001b[0m \u001b[0mline_kws\u001b[0m\u001b[0;34m)\u001b[0m\u001b[0;34m\u001b[0m\u001b[0;34m\u001b[0m\u001b[0m\n\u001b[0m\u001b[1;32m    366\u001b[0m \u001b[0;34m\u001b[0m\u001b[0m\n\u001b[1;32m    367\u001b[0m         \u001b[0;31m# Label the axes\u001b[0m\u001b[0;34m\u001b[0m\u001b[0;34m\u001b[0m\u001b[0;34m\u001b[0m\u001b[0m\n",
      "\u001b[0;32m~/opt/anaconda3/lib/python3.7/site-packages/seaborn/regression.py\u001b[0m in \u001b[0;36mlineplot\u001b[0;34m(self, ax, kws)\u001b[0m\n\u001b[1;32m    406\u001b[0m         \u001b[0;34m\"\"\"Draw the model.\"\"\"\u001b[0m\u001b[0;34m\u001b[0m\u001b[0;34m\u001b[0m\u001b[0m\n\u001b[1;32m    407\u001b[0m         \u001b[0;31m# Fit the regression model\u001b[0m\u001b[0;34m\u001b[0m\u001b[0;34m\u001b[0m\u001b[0;34m\u001b[0m\u001b[0m\n\u001b[0;32m--> 408\u001b[0;31m         \u001b[0mgrid\u001b[0m\u001b[0;34m,\u001b[0m \u001b[0myhat\u001b[0m\u001b[0;34m,\u001b[0m \u001b[0merr_bands\u001b[0m \u001b[0;34m=\u001b[0m \u001b[0mself\u001b[0m\u001b[0;34m.\u001b[0m\u001b[0mfit_regression\u001b[0m\u001b[0;34m(\u001b[0m\u001b[0max\u001b[0m\u001b[0;34m)\u001b[0m\u001b[0;34m\u001b[0m\u001b[0;34m\u001b[0m\u001b[0m\n\u001b[0m\u001b[1;32m    409\u001b[0m         \u001b[0medges\u001b[0m \u001b[0;34m=\u001b[0m \u001b[0mgrid\u001b[0m\u001b[0;34m[\u001b[0m\u001b[0;36m0\u001b[0m\u001b[0;34m]\u001b[0m\u001b[0;34m,\u001b[0m \u001b[0mgrid\u001b[0m\u001b[0;34m[\u001b[0m\u001b[0;34m-\u001b[0m\u001b[0;36m1\u001b[0m\u001b[0;34m]\u001b[0m\u001b[0;34m\u001b[0m\u001b[0;34m\u001b[0m\u001b[0m\n\u001b[1;32m    410\u001b[0m \u001b[0;34m\u001b[0m\u001b[0m\n",
      "\u001b[0;32m~/opt/anaconda3/lib/python3.7/site-packages/seaborn/regression.py\u001b[0m in \u001b[0;36mfit_regression\u001b[0;34m(self, ax, x_range, grid)\u001b[0m\n\u001b[1;32m    194\u001b[0m                 \u001b[0;32melse\u001b[0m\u001b[0;34m:\u001b[0m\u001b[0;34m\u001b[0m\u001b[0;34m\u001b[0m\u001b[0m\n\u001b[1;32m    195\u001b[0m                     \u001b[0mx_min\u001b[0m\u001b[0;34m,\u001b[0m \u001b[0mx_max\u001b[0m \u001b[0;34m=\u001b[0m \u001b[0max\u001b[0m\u001b[0;34m.\u001b[0m\u001b[0mget_xlim\u001b[0m\u001b[0;34m(\u001b[0m\u001b[0;34m)\u001b[0m\u001b[0;34m\u001b[0m\u001b[0;34m\u001b[0m\u001b[0m\n\u001b[0;32m--> 196\u001b[0;31m             \u001b[0mgrid\u001b[0m \u001b[0;34m=\u001b[0m \u001b[0mnp\u001b[0m\u001b[0;34m.\u001b[0m\u001b[0mlinspace\u001b[0m\u001b[0;34m(\u001b[0m\u001b[0mx_min\u001b[0m\u001b[0;34m,\u001b[0m \u001b[0mx_max\u001b[0m\u001b[0;34m,\u001b[0m \u001b[0;36m100\u001b[0m\u001b[0;34m)\u001b[0m\u001b[0;34m\u001b[0m\u001b[0;34m\u001b[0m\u001b[0m\n\u001b[0m\u001b[1;32m    197\u001b[0m         \u001b[0mci\u001b[0m \u001b[0;34m=\u001b[0m \u001b[0mself\u001b[0m\u001b[0;34m.\u001b[0m\u001b[0mci\u001b[0m\u001b[0;34m\u001b[0m\u001b[0;34m\u001b[0m\u001b[0m\n\u001b[1;32m    198\u001b[0m \u001b[0;34m\u001b[0m\u001b[0m\n",
      "\u001b[0;32m<__array_function__ internals>\u001b[0m in \u001b[0;36mlinspace\u001b[0;34m(*args, **kwargs)\u001b[0m\n",
      "\u001b[0;32m~/opt/anaconda3/lib/python3.7/site-packages/numpy/core/function_base.py\u001b[0m in \u001b[0;36mlinspace\u001b[0;34m(start, stop, num, endpoint, retstep, dtype, axis)\u001b[0m\n\u001b[1;32m    127\u001b[0m     \u001b[0;31m# Convert float/complex array scalars to float, gh-3504\u001b[0m\u001b[0;34m\u001b[0m\u001b[0;34m\u001b[0m\u001b[0;34m\u001b[0m\u001b[0m\n\u001b[1;32m    128\u001b[0m     \u001b[0;31m# and make sure one can use variables that have an __array_interface__, gh-6634\u001b[0m\u001b[0;34m\u001b[0m\u001b[0;34m\u001b[0m\u001b[0;34m\u001b[0m\u001b[0m\n\u001b[0;32m--> 129\u001b[0;31m     \u001b[0mstart\u001b[0m \u001b[0;34m=\u001b[0m \u001b[0masanyarray\u001b[0m\u001b[0;34m(\u001b[0m\u001b[0mstart\u001b[0m\u001b[0;34m)\u001b[0m \u001b[0;34m*\u001b[0m \u001b[0;36m1.0\u001b[0m\u001b[0;34m\u001b[0m\u001b[0;34m\u001b[0m\u001b[0m\n\u001b[0m\u001b[1;32m    130\u001b[0m     \u001b[0mstop\u001b[0m  \u001b[0;34m=\u001b[0m \u001b[0masanyarray\u001b[0m\u001b[0;34m(\u001b[0m\u001b[0mstop\u001b[0m\u001b[0;34m)\u001b[0m  \u001b[0;34m*\u001b[0m \u001b[0;36m1.0\u001b[0m\u001b[0;34m\u001b[0m\u001b[0;34m\u001b[0m\u001b[0m\n\u001b[1;32m    131\u001b[0m \u001b[0;34m\u001b[0m\u001b[0m\n",
      "\u001b[0;31mUFuncTypeError\u001b[0m: ufunc 'multiply' did not contain a loop with signature matching types (dtype('<U32'), dtype('<U32')) -> dtype('<U32')"
     ]
    },
    {
     "data": {
      "image/png": "[encoded data removed]",
      "text/plain": [
       "<Figure size 360x360 with 1 Axes>"
      ]
     },
     "metadata": {},
     "output_type": "display_data"
    }
   ],
   "source": [
    "sns.lmplot(x='year', y='num_recipients', hue='title', data=df_awards_past, scatter_kws=dict(alpha=.1))\n",
    "plt.xlim(1900, 2018);"
   ]
  },
  {
   "cell_type": "code",
   "execution_count": 91,
   "metadata": {},
   "outputs": [],
   "source": [
    "tidy_awards = []\n",
    "for idx, row in df_awards_past.iterrows():\n",
    "    for recipient in row['recipients']:\n",
    "        tidy_awards.append(dict(\n",
    "            recipient=recipient,\n",
    "            year=row['year']))\n",
    "tidy_awards_df = pd.DataFrame(tidy_awards)"
   ]
  },
  {
   "cell_type": "code",
   "execution_count": 92,
   "metadata": {},
   "outputs": [
    {
     "data": {
      "text/plain": [
       "Comité international de la Croix Rouge (International Committee of the Red Cross)     3\n",
       "Marie Curie, née Sklodowska                                                           2\n",
       "Linus Carl Pauling                                                                    2\n",
       "John Bardeen                                                                          2\n",
       "Office of the United Nations High Commissioner for Refugees (UNHCR)                   2\n",
       "                                                                                     ..\n",
       "Werner Forssmann                                                                      1\n",
       "Baruch S. Blumberg                                                                    1\n",
       "Hans Adolf Krebs                                                                      1\n",
       "Dan Shechtman                                                                         1\n",
       "Ernesto Teodoro Moneta                                                                1\n",
       "Name: recipient, Length: 943, dtype: int64"
      ]
     },
     "execution_count": 92,
     "metadata": {},
     "output_type": "execute_result"
    }
   ],
   "source": [
    "tidy_awards_df.recipient.value_counts()"
   ]
  },
  {
   "cell_type": "code",
   "execution_count": 93,
   "metadata": {},
   "outputs": [
    {
     "name": "stdout",
     "output_type": "stream",
     "text": [
      "title,year,recipients,num_recipients,motivation\n",
      "The Nobel Prize in Physics ,2019,\"['James Peebles', 'Michel Mayor', 'Didier Queloz', 'John B. Goodenough', 'M. Stanley Whittingham', 'Akira Yoshino', 'William G. Kaelin Jr', 'Sir Peter J. Ratcliffe', 'Gregg L. Semenza', 'Peter Handke', 'Abiy Ahmed Ali', 'Abhijit Banerjee', 'Esther Duflo', 'Michael Kremer']\",14,\n",
      "The Nobel Prize in Physics ,2018,[],0,\n",
      "Arthur As,hkin,\"['Arthur Ashkin', 'Gérard Mourou', 'Donna Strickland']\",3,\n",
      "The Nobel Prize in Chemistry ,2018,\"['Frances H. Arnold', 'George P. Smith', 'Sir Gregory P. Winter', 'James P. Allison', 'Tasuku Honjo']\",5,\n",
      "The Nobel Prize in Literature ,2018,['Olga Tokarczuk'],1,\n",
      "The Nobel Peace Prize ,2018,\"['Denis Mukwege', 'Nadia Murad']\",2,for their efforts to end the use of sexual violence as a weapon of war and armed conflict\n",
      "The Sveriges Riksbank Prize in Economic Sciences in Memory of Alfred Nobel ,2018,\"['William D. Nordhaus', 'Paul M. Romer']\",2,\n",
      "The Nobel Prize in Physics ,2017,\"['Rainer \n"
     ]
    }
   ],
   "source": [
    "df_awards_past.to_csv('awards.csv', index=False)\n",
    "with open('awards.csv', 'r') as f:\n",
    "    print(f.read()[:1000])"
   ]
  },
  {
   "cell_type": "code",
   "execution_count": 94,
   "metadata": {},
   "outputs": [
    {
     "data": {
      "text/plain": [
       "\"['Tomas Lindahl', 'Paul Modrich', 'Aziz Sancar']\""
      ]
     },
     "execution_count": 94,
     "metadata": {},
     "output_type": "execute_result"
    }
   ],
   "source": [
    "pd.read_csv('awards.csv').recipients.iloc[20]"
   ]
  },
  {
   "cell_type": "code",
   "execution_count": 95,
   "metadata": {},
   "outputs": [
    {
     "name": "stdout",
     "output_type": "stream",
     "text": [
      "[{\"title\":\"The Nobel Prize in Physics \",\"year\":\"2019\",\"recipients\":[\"James Peebles\",\"Michel Mayor\",\"Didier Queloz\",\"John B. Goodenough\",\"M. Stanley Whittingham\",\"Akira Yoshino\",\"William G. Kaelin Jr\",\"Sir Peter J. Ratcliffe\",\"Gregg L. Semenza\",\"Peter Handke\",\"Abiy Ahmed Ali\",\"Abhijit Banerjee\",\"Esther Duflo\",\"Michael Kremer\"],\"num_recipients\":14,\"motivation\":null},{\"title\":\"The Nobel Prize in Physics \",\"year\":\"2018\",\"recipients\":[],\"num_recipients\":0,\"motivation\":null},{\"title\":\"Arthur As\",\"year\":\"hkin\",\"recipients\":[\"Arthur Ashkin\",\"G\\u00e9rard Mourou\",\"Donna Strickland\"],\"num_recipients\":3,\"motivation\":null},{\"title\":\"The Nobel Prize in Chemistry \",\"year\":\"2018\",\"recipients\":[\"Frances H. Arnold\",\"George P. Smith\",\"Sir Gregory P. Winter\",\"James P. Allison\",\"Tasuku Honjo\"],\"num_recipients\":5,\"motivation\":null},{\"title\":\"The Nobel Prize in Literature \",\"year\":\"2018\",\"recipients\":[\"Olga Tokarczuk\"],\"num_recipients\":1,\"motivation\":null},{\"title\":\"The Nobel Peace Prize \",\"year\":\"2018\",\"rec\n"
     ]
    }
   ],
   "source": [
    "df_awards_past.to_json('awards.json', orient='records')\n",
    "\n",
    "with open('awards.json', 'r') as f:\n",
    "    print(f.read()[:1000])"
   ]
  },
  {
   "cell_type": "code",
   "execution_count": 96,
   "metadata": {},
   "outputs": [
    {
     "data": {
      "text/plain": [
       "['Tomas Lindahl', 'Paul Modrich', 'Aziz Sancar']"
      ]
     },
     "execution_count": 96,
     "metadata": {},
     "output_type": "execute_result"
    }
   ],
   "source": [
    "pd.read_json('awards.json').recipients.iloc[20]"
   ]
  },
  {
   "cell_type": "code",
   "execution_count": 97,
   "metadata": {},
   "outputs": [
    {
     "name": "stdout",
     "output_type": "stream",
     "text": [
      "ccopy_reg\n",
      "_reconstructor\n",
      "p0\n",
      "(cpandas.core.frame\n",
      "DataFrame\n",
      "p1\n",
      "c__builtin__\n",
      "object\n",
      "p2\n",
      "Ntp3\n",
      "Rp4\n",
      "(dp5\n",
      "V_data\n",
      "p6\n",
      "g0\n",
      "(cpandas.core.internals.managers\n",
      "BlockManager\n",
      "p7\n",
      "g2\n",
      "Ntp8\n",
      "Rp9\n",
      "((lp10\n",
      "cpandas.core.indexes.\n"
     ]
    }
   ],
   "source": [
    "df_awards_past.to_pickle('awards.pkl', protocol=0)\n",
    "with open('awards.pkl', 'r', encoding='latin1') as f:\n",
    "    print(f.read()[:200])"
   ]
  },
  {
   "cell_type": "code",
   "execution_count": 98,
   "metadata": {},
   "outputs": [
    {
     "name": "stdout",
     "output_type": "stream",
     "text": [
      "1901: Wilhelm Conrad Röntgen\n",
      "1902: Hendrik Antoon Lorentz, Pieter Zeeman\n",
      "1903: Antoine Henri Becquerel, Pierre Curie, Marie Curie, née Sklodowska\n",
      "1904: Lord Rayleigh (John William Strutt)\n",
      "1905: Philipp Eduard Anton von Lenard\n",
      "1906: Joseph John Thomson\n",
      "1907: Albert Abraham Michelson\n",
      "1908: Gabriel Lippmann\n",
      "1909: Guglielmo Marconi, Karl Ferdinand Braun\n",
      "1910: Johannes Diderik van der Waals\n",
      "1911: Wilhelm Wien\n",
      "1912: Nils Gustaf Dalén\n",
      "1913: Heike Kamerlingh Onnes\n",
      "1914: Max von Laue\n",
      "1915: Sir William Henry Bragg, William Lawrence Bragg\n",
      "1916: \n",
      "1917: Charles Glover Barkla\n",
      "1918: Max Karl Ernst Ludwig Planck\n",
      "1919: Johannes Stark\n",
      "1920: Charles Edouard Guillaume\n",
      "1921: Albert Einstein\n",
      "1922: Niels Henrik David Bohr\n",
      "1923: Robert Andrews Millikan\n",
      "1924: Karl Manne Georg Siegbahn\n",
      "1925: James Franck, Gustav Ludwig Hertz\n",
      "1926: Jean Baptiste Perrin\n",
      "1927: Arthur Holly Compton, Charles Thomson Rees Wilson\n",
      "1928: Owen Willans Richardson\n",
      "1929: Prince Louis-Victor Pierre Raymond de Broglie\n",
      "1930: Sir Chandrasekhara Venkata Raman\n",
      "1931: \n",
      "1932: Werner Karl Heisenberg\n",
      "1933: Erwin Schrödinger, Paul Adrien Maurice Dirac\n",
      "1934: \n",
      "1935: James Chadwick\n",
      "1936: Victor Franz Hess, Carl David Anderson\n",
      "1937: Clinton Joseph Davisson, George Paget Thomson\n",
      "1938: Enrico Fermi\n",
      "1939: Ernest Orlando Lawrence\n",
      "1940: \n",
      "1941: \n",
      "1942: \n",
      "1943: Otto Stern\n",
      "1944: Isidor Isaac Rabi\n",
      "1945: Wolfgang Pauli\n",
      "1946: Percy Williams Bridgman\n",
      "1947: Sir Edward Victor Appleton\n",
      "1948: Patrick Maynard Stuart Blackett\n",
      "1949: Hideki Yukawa\n",
      "1950: Cecil Frank Powell\n",
      "1951: Sir John Douglas Cockcroft, Ernest Thomas Sinton Walton\n",
      "1952: Felix Bloch, Edward Mills Purcell\n",
      "1953: Frits Zernike\n",
      "1954: Max Born, Walther Bothe\n",
      "1955: Willis Eugene Lamb, Polykarp Kusch\n",
      "1956: William Bradford Shockley, John Bardeen, Walter Houser Brattain\n",
      "1957: Chen Ning Yang, Tsung-Dao (T.D.) Lee\n",
      "1958: Pavel Alekseyevich Cherenkov, Il´ja Mikhailovich Frank, Igor Yevgenyevich Tamm\n",
      "1959: Emilio Gino Segrè, Owen Chamberlain\n",
      "1960: Donald Arthur Glaser\n",
      "1961: Robert Hofstadter, Rudolf Ludwig Mössbauer\n",
      "1962: Lev Davidovich Landau\n",
      "1963: Eugene Paul Wigner, Maria Goeppert Mayer, J. Hans D. Jensen\n",
      "1964: Charles Hard Townes, Nicolay Gennadiyevich Basov, Aleksandr Mikhailovich Prokhorov\n",
      "1965: Sin-Itiro Tomonaga, Julian Schwinger, Richard P. Feynman\n",
      "1966: Alfred Kastler\n",
      "1967: Hans Albrecht Bethe\n",
      "1968: Luis Walter Alvarez\n",
      "1969: Murray Gell-Mann\n",
      "1970: Hannes Olof Gösta Alfvén, Louis Eugène Félix Néel\n",
      "1971: Dennis Gabor\n",
      "1972: John Bardeen, Leon Neil Cooper, John Robert Schrieffer\n",
      "1973: Leo Esaki, Ivar Giaever, Brian David Josephson\n",
      "1974: Sir Martin Ryle, Antony Hewish\n",
      "1975: Aage Niels Bohr, Ben Roy Mottelson, Leo James Rainwater\n",
      "1976: Burton Richter, Samuel Chao Chung Ting\n",
      "1977: Philip Warren Anderson, Sir Nevill Francis Mott, John Hasbrouck van Vleck\n",
      "1978: Pyotr Leonidovich Kapitsa, Arno Allan Penzias, Robert Woodrow Wilson\n",
      "1979: Sheldon Lee Glashow, Abdus Salam, Steven Weinberg\n",
      "1980: James Watson Cronin, Val Logsdon Fitch\n",
      "1981: Nicolaas Bloembergen, Arthur Leonard Schawlow, Kai M. Siegbahn\n",
      "1982: Kenneth G. Wilson\n",
      "1983: Subramanyan Chandrasekhar, William Alfred Fowler\n",
      "1984: Carlo Rubbia, Simon van der Meer\n",
      "1985: Klaus von Klitzing\n",
      "1986: Ernst Ruska, Gerd Binnig, Heinrich Rohrer\n",
      "1987: J. Georg Bednorz, K. Alexander Müller\n",
      "1988: Leon M. Lederman, Melvin Schwartz, Jack Steinberger\n",
      "1989: Norman F. Ramsey, Hans G. Dehmelt, Wolfgang Paul\n",
      "1990: Jerome I. Friedman, Henry W. Kendall, Richard E. Taylor\n",
      "1991: Pierre-Gilles de Gennes\n",
      "1992: Georges Charpak\n",
      "1993: Russell A. Hulse, Joseph H. Taylor Jr.\n",
      "1994: Bertram N. Brockhouse, Clifford G. Shull\n",
      "1995: Martin L. Perl, Frederick Reines\n",
      "1996: David M. Lee, Douglas D. Osheroff, Robert C. Richardson\n",
      "1997: Steven Chu, Claude Cohen-Tannoudji, William D. Phillips\n",
      "1998: Robert B. Laughlin, Horst L. Störmer, Daniel C. Tsui\n",
      "1999: Gerardus ‘t Hooft, Martinus J.G. Veltman\n",
      "2000: Zhores I. Alferov, Herbert Kroemer, Jack S. Kilby\n",
      "2001: Eric A. Cornell, Wolfgang Ketterle, Carl E. Wieman\n",
      "2002: Raymond Davis Jr., Masatoshi Koshiba, Riccardo Giacconi\n",
      "2003: Alexei A. Abrikosov, Vitaly L. Ginzburg, Anthony J. Leggett\n",
      "2004: David J. Gross, H. David Politzer, Frank Wilczek\n",
      "2005: Roy J. Glauber, John L. Hall, Theodor W. Hänsch\n",
      "2006: John C. Mather, George F. Smoot\n",
      "2007: Albert Fert, Peter Grünberg\n",
      "2008: Yoichiro Nambu, Makoto Kobayashi, Toshihide Maskawa\n",
      "2009: Charles Kuen Kao, Willard S. Boyle, George E. Smith\n",
      "2010: Andre Geim, Konstantin Novoselov\n",
      "2011: Saul Perlmutter, Brian P. Schmidt, Adam G. Riess\n",
      "2012: Serge Haroche, David J. Wineland\n",
      "2013: François Englert, Peter W. Higgs\n",
      "2014: Isamu Akasaki, Hiroshi Amano, Shuji Nakamura\n",
      "2015: Takaaki Kajita, Arthur B. McDonald\n",
      "2016: David J. Thouless, F. Duncan M. Haldane, J. Michael Kosterlitz\n",
      "2017: Rainer Weiss, Barry C. Barish, Kip S. Thorne\n",
      "2018: \n",
      "2019: James Peebles, Michel Mayor, Didier Queloz, John B. Goodenough, M. Stanley Whittingham, Akira Yoshino, William G. Kaelin Jr, Sir Peter J. Ratcliffe, Gregg L. Semenza, Peter Handke, Abiy Ahmed Ali, Abhijit Banerjee, Esther Duflo, Michael Kremer\n"
     ]
    }
   ],
   "source": [
    "for idx, row in df_awards_past.sort_values('year').iterrows():\n",
    "    if 'Physics' in row['title']:\n",
    "        print('{}: {}'.format(\n",
    "            row['year'],\n",
    "            ', '.join(row['recipients'])))"
   ]
  }
 ],
 "metadata": {
  "kernelspec": {
   "display_name": "Python 3",
   "language": "python",
   "name": "python3"
  },
  "language_info": {
   "codemirror_mode": {
    "name": "ipython",
    "version": 3
   },
   "file_extension": ".py",
   "mimetype": "text/x-python",
   "name": "python",
   "nbconvert_exporter": "python",
   "pygments_lexer": "ipython3",
   "version": "3.7.6"
  }
 },
 "nbformat": 4,
 "nbformat_minor": 4
}
